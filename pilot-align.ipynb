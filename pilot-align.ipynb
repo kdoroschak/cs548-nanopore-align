{
 "cells": [
  {
   "cell_type": "markdown",
   "metadata": {},
   "source": [
    "# Pilot alignment of NA12878 nanopore reads\n",
    "\n",
    "data source: https://github.com/nanopore-wgs-consortium/NA12878\n",
    "\n",
    "biorxiv paper complementing the data: http://biorxiv.org/content/biorxiv/early/2017/04/20/128835.full.pdf\n",
    "\n",
    "helpful for b\n",
    "\n",
    "### The goal: \n",
    "Align a few nanopore datasets as a baseline for the hardware-based sequence alignment."
   ]
  },
  {
   "cell_type": "code",
   "execution_count": 1,
   "metadata": {
    "collapsed": true
   },
   "outputs": [],
   "source": [
    "import os"
   ]
  },
  {
   "cell_type": "code",
   "execution_count": 9,
   "metadata": {
    "collapsed": false
   },
   "outputs": [],
   "source": [
    "data_dir = \"/projects/bio/nanopore/rel3/\"\n",
    "fastq_files = [data_dir + f for f in os.listdir(data_dir) if f.endswith(\"fastq\") or f.endswith(\"fq\")]\n",
    "ref_fasta = \"/projects/bio/nanopore/refs/GRCh38_full_analysis_set_plus_decoy_hla.fa\""
   ]
  },
  {
   "cell_type": "markdown",
   "metadata": {},
   "source": [
    "# Index the reference\n",
    "\n",
    "```-a bwtsw``` is added because the max genome size of the default option is 2GB. This mode can work with larger mammalian genomes like human."
   ]
  },
  {
   "cell_type": "code",
   "execution_count": 8,
   "metadata": {
    "collapsed": false,
    "scrolled": true
   },
   "outputs": [
    {
     "name": "stdout",
     "output_type": "stream",
     "text": [
      "[bwa_index] Pack FASTA... 31.36 sec\n",
      "[bwa_index] Construct BWT for the packed sequence...\n",
      "[BWTIncCreate] textLength=6434693834, availableWord=464768632\n",
      "[BWTIncConstructFromPacked] 10 iterations done. 99999994 characters processed.\n",
      "[BWTIncConstructFromPacked] 20 iterations done. 199999994 characters processed.\n",
      "[BWTIncConstructFromPacked] 30 iterations done. 299999994 characters processed.\n",
      "[BWTIncConstructFromPacked] 40 iterations done. 399999994 characters processed.\n",
      "[BWTIncConstructFromPacked] 50 iterations done. 499999994 characters processed.\n",
      "[BWTIncConstructFromPacked] 60 iterations done. 599999994 characters processed.\n",
      "[BWTIncConstructFromPacked] 70 iterations done. 699999994 characters processed.\n",
      "[BWTIncConstructFromPacked] 80 iterations done. 799999994 characters processed.\n",
      "[BWTIncConstructFromPacked] 90 iterations done. 899999994 characters processed.\n",
      "[BWTIncConstructFromPacked] 100 iterations done. 999999994 characters processed.\n",
      "[BWTIncConstructFromPacked] 110 iterations done. 1099999994 characters processed.\n",
      "[BWTIncConstructFromPacked] 120 iterations done. 1199999994 characters processed.\n",
      "[BWTIncConstructFromPacked] 130 iterations done. 1299999994 characters processed.\n",
      "[BWTIncConstructFromPacked] 140 iterations done. 1399999994 characters processed.\n",
      "[BWTIncConstructFromPacked] 150 iterations done. 1499999994 characters processed.\n",
      "[BWTIncConstructFromPacked] 160 iterations done. 1599999994 characters processed.\n",
      "[BWTIncConstructFromPacked] 170 iterations done. 1699999994 characters processed.\n",
      "[BWTIncConstructFromPacked] 180 iterations done. 1799999994 characters processed.\n",
      "[BWTIncConstructFromPacked] 190 iterations done. 1899999994 characters processed.\n",
      "[BWTIncConstructFromPacked] 200 iterations done. 1999999994 characters processed.\n",
      "[BWTIncConstructFromPacked] 210 iterations done. 2099999994 characters processed.\n",
      "[BWTIncConstructFromPacked] 220 iterations done. 2199999994 characters processed.\n",
      "[BWTIncConstructFromPacked] 230 iterations done. 2299999994 characters processed.\n",
      "[BWTIncConstructFromPacked] 240 iterations done. 2399999994 characters processed.\n",
      "[BWTIncConstructFromPacked] 250 iterations done. 2499999994 characters processed.\n",
      "[BWTIncConstructFromPacked] 260 iterations done. 2599999994 characters processed.\n",
      "[BWTIncConstructFromPacked] 270 iterations done. 2699999994 characters processed.\n",
      "[BWTIncConstructFromPacked] 280 iterations done. 2799999994 characters processed.\n",
      "[BWTIncConstructFromPacked] 290 iterations done. 2899999994 characters processed.\n",
      "[BWTIncConstructFromPacked] 300 iterations done. 2999999994 characters processed.\n",
      "[BWTIncConstructFromPacked] 310 iterations done. 3099999994 characters processed.\n",
      "[BWTIncConstructFromPacked] 320 iterations done. 3199999994 characters processed.\n",
      "[BWTIncConstructFromPacked] 330 iterations done. 3299999994 characters processed.\n",
      "[BWTIncConstructFromPacked] 340 iterations done. 3399999994 characters processed.\n",
      "[BWTIncConstructFromPacked] 350 iterations done. 3499999994 characters processed.\n",
      "[BWTIncConstructFromPacked] 360 iterations done. 3599999994 characters processed.\n",
      "[BWTIncConstructFromPacked] 370 iterations done. 3699999994 characters processed.\n",
      "[BWTIncConstructFromPacked] 380 iterations done. 3799999994 characters processed.\n",
      "[BWTIncConstructFromPacked] 390 iterations done. 3899999994 characters processed.\n",
      "[BWTIncConstructFromPacked] 400 iterations done. 3999999994 characters processed.\n",
      "[BWTIncConstructFromPacked] 410 iterations done. 4099999994 characters processed.\n",
      "[BWTIncConstructFromPacked] 420 iterations done. 4199999994 characters processed.\n",
      "[BWTIncConstructFromPacked] 430 iterations done. 4299999994 characters processed.\n",
      "[BWTIncConstructFromPacked] 440 iterations done. 4399999994 characters processed.\n",
      "[BWTIncConstructFromPacked] 450 iterations done. 4499999994 characters processed.\n",
      "[BWTIncConstructFromPacked] 460 iterations done. 4599999994 characters processed.\n",
      "[BWTIncConstructFromPacked] 470 iterations done. 4699999994 characters processed.\n",
      "[BWTIncConstructFromPacked] 480 iterations done. 4799999994 characters processed.\n",
      "[BWTIncConstructFromPacked] 490 iterations done. 4899999994 characters processed.\n",
      "[BWTIncConstructFromPacked] 500 iterations done. 4999999994 characters processed.\n",
      "[BWTIncConstructFromPacked] 510 iterations done. 5099999994 characters processed.\n",
      "[BWTIncConstructFromPacked] 520 iterations done. 5199999994 characters processed.\n",
      "[BWTIncConstructFromPacked] 530 iterations done. 5299999994 characters processed.\n",
      "[BWTIncConstructFromPacked] 540 iterations done. 5399999994 characters processed.\n",
      "[BWTIncConstructFromPacked] 550 iterations done. 5499999994 characters processed.\n",
      "[BWTIncConstructFromPacked] 560 iterations done. 5599999994 characters processed.\n",
      "[BWTIncConstructFromPacked] 570 iterations done. 5699999994 characters processed.\n",
      "[BWTIncConstructFromPacked] 580 iterations done. 5799054074 characters processed.\n",
      "[BWTIncConstructFromPacked] 590 iterations done. 5888997130 characters processed.\n",
      "[BWTIncConstructFromPacked] 600 iterations done. 5968934746 characters processed.\n",
      "[BWTIncConstructFromPacked] 610 iterations done. 6039979482 characters processed.\n",
      "[BWTIncConstructFromPacked] 620 iterations done. 6103120202 characters processed.\n",
      "[BWTIncConstructFromPacked] 630 iterations done. 6159235834 characters processed.\n",
      "[BWTIncConstructFromPacked] 640 iterations done. 6209107546 characters processed.\n",
      "[BWTIncConstructFromPacked] 650 iterations done. 6253429626 characters processed.\n",
      "[BWTIncConstructFromPacked] 660 iterations done. 6292819178 characters processed.\n",
      "[BWTIncConstructFromPacked] 670 iterations done. 6327824746 characters processed.\n",
      "[BWTIncConstructFromPacked] 680 iterations done. 6358933706 characters processed.\n",
      "[BWTIncConstructFromPacked] 690 iterations done. 6386579386 characters processed.\n",
      "[BWTIncConstructFromPacked] 700 iterations done. 6411146922 characters processed.\n",
      "[BWTIncConstructFromPacked] 710 iterations done. 6432978554 characters processed.\n",
      "[bwt_gen] Finished constructing BWT in 711 iterations.\n",
      "[bwa_index] 3720.69 seconds elapse.\n",
      "[bwa_index] Update BWT... 21.26 sec\n",
      "[bwa_index] Pack forward-only FASTA... 19.22 sec\n",
      "[bwa_index] Construct SA from BWT and Occ... 1097.09 sec\n",
      "[main] Version: 0.7.12-r1039\n",
      "[main] CMD: bwa index -a bwtsw /projects/bio/nanopore/refs/GRCh38_full_analysis_set_plus_decoy_hla.fa\n",
      "[main] Real time: 4970.657 sec; CPU: 4889.644 sec\n"
     ]
    }
   ],
   "source": [
    "! bwa index -a bwtsw {ref_fasta}"
   ]
  },
  {
   "cell_type": "markdown",
   "metadata": {},
   "source": [
    "# QC of reads\n",
    "\n",
    "I am currently unsure what if any QC has been done for the reads to this point, other than assessment of base calling performance (see biorxiv paper, although I did not read the supplement). Proceeding without QC for now as a simple baseline. "
   ]
  },
  {
   "cell_type": "markdown",
   "metadata": {},
   "source": [
    "# Align"
   ]
  },
  {
   "cell_type": "code",
   "execution_count": null,
   "metadata": {
    "collapsed": false
   },
   "outputs": [
    {
     "name": "stdout",
     "output_type": "stream",
     "text": [
      "/projects/bio/nanopore/rel3/rel3-nanopore-wgs-3709921973-FAB39043.fastq\n",
      "bwa mem -t 40 -x ont2d /projects/bio/nanopore/refs/GRCh38_full_analysis_set_plus_decoy_hla.fa /projects/bio/nanopore/rel3/rel3-nanopore-wgs-3709921973-FAB39043.fastq > /projects/bio/nanopore/rel3/rel3-nanopore-wgs-3709921973-FAB39043.fastqsam\n",
      "[M::bwa_idx_load_from_disk] read 0 ALT contigs\n"
     ]
    }
   ],
   "source": [
    "n_threads = 40\n",
    "for fq in fastq_files:\n",
    "    print fq\n",
    "    sam_file = \"\"\n",
    "    if fq.endswith(\"fastq\"):\n",
    "        sam_file = fq.replace(\"fastq\", \"\")\n",
    "    if fq.endswith(\"fq\"):\n",
    "        sam_file = fq.replace(\"fq\", \"\")    \n",
    "    sam_file = fq + \"sam\"\n",
    "    bwa_cmd = \"bwa mem -t %d -x ont2d %s %s > %s\" % (n_threads, ref_fasta, fq, sam_file)\n",
    "    print bwa_cmd\n",
    "    ! {bwa_cmd}"
   ]
  },
  {
   "cell_type": "code",
   "execution_count": null,
   "metadata": {
    "collapsed": true
   },
   "outputs": [],
   "source": []
  }
 ],
 "metadata": {
  "anaconda-cloud": {},
  "kernelspec": {
   "display_name": "Python [conda root]",
   "language": "python",
   "name": "conda-root-py"
  },
  "language_info": {
   "codemirror_mode": {
    "name": "ipython",
    "version": 2
   },
   "file_extension": ".py",
   "mimetype": "text/x-python",
   "name": "python",
   "nbconvert_exporter": "python",
   "pygments_lexer": "ipython2",
   "version": "2.7.13"
  }
 },
 "nbformat": 4,
 "nbformat_minor": 2
}
